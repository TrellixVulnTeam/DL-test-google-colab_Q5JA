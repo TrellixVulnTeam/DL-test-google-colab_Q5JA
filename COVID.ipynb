{
  "nbformat": 4,
  "nbformat_minor": 0,
  "metadata": {
    "colab": {
      "name": "COVID.ipynb",
      "provenance": [],
      "collapsed_sections": [],
      "include_colab_link": true
    },
    "kernelspec": {
      "name": "python3",
      "display_name": "Python 3"
    },
    "language_info": {
      "name": "python"
    },
    "accelerator": "GPU"
  },
  "cells": [
    {
      "cell_type": "markdown",
      "metadata": {
        "id": "view-in-github",
        "colab_type": "text"
      },
      "source": [
        "<a href=\"https://colab.research.google.com/github/khyarihamza1/DL-test-google-colab/blob/main/COVID.ipynb\" target=\"_parent\"><img src=\"https://colab.research.google.com/assets/colab-badge.svg\" alt=\"Open In Colab\"/></a>"
      ]
    },
    {
      "cell_type": "code",
      "source": [
        "#Télécharger google drive dans notre colab\n",
        "from google.colab import drive\n",
        "drive.mount('/content/drive')"
      ],
      "metadata": {
        "colab": {
          "base_uri": "https://localhost:8080/"
        },
        "id": "8R-PSMVyS3di",
        "outputId": "0eb2898c-36e6-48f6-bba2-8663ef0705d4"
      },
      "execution_count": 10,
      "outputs": [
        {
          "output_type": "stream",
          "name": "stdout",
          "text": [
            "Mounted at /content/drive\n"
          ]
        }
      ]
    },
    {
      "cell_type": "code",
      "source": [
        "# Importing librar\n",
        "import tensorflow as tf\n",
        "import tensorflow.keras \n",
        "from tensorflow.keras.models import Model\n",
        "from tensorflow.keras.layers import Input, Dense, Activation, Flatten, Conv2D, MaxPool2D , Dropout\n",
        "from tensorflow.keras.optimizers import Adam\n",
        "from tensorflow.keras.preprocessing.image import ImageDataGenerator\n",
        "from tensorflow.keras.losses import binary_crossentropy\n",
        "from tensorflow.keras import metrics\n",
        "import matplotlib.pyplot as plt\n",
        "from sklearn.metrics import classification_report, confusion_matrix, plot_confusion_matrix, ConfusionMatrixDisplay\n",
        "import numpy as np"
      ],
      "metadata": {
        "id": "z2lwLvPWVMtp"
      },
      "execution_count": 11,
      "outputs": []
    },
    {
      "cell_type": "code",
      "source": [
        "# Create Path fro Both (Train/Test)\n",
        "train_loc = '/content/drive/My Drive/DATA/train/'\n",
        "test_loc = '/content/drive/My Drive/DATA/test/'\n",
        "# train_loc = '/DATA/train/'\n",
        "# test_loc = '/My Drive/DATA/test/'"
      ],
      "metadata": {
        "id": "bY6Kx59EVSl8"
      },
      "execution_count": 14,
      "outputs": []
    },
    {
      "cell_type": "code",
      "source": [
        "#augmentation des données\n",
        "#pour train data\n",
        "trdata = ImageDataGenerator(rescale = 1./255, #normalisation des images(0<pixel<1)\n",
        "                            shear_range = 0.2,\n",
        "                            zoom_range = 0.2,\n",
        "                            horizontal_flip =True,\n",
        "                            )\n",
        "#resize images\n",
        "traindata = trdata.flow_from_directory( directory = train_loc, target_size = (224, 224))\n",
        "\n",
        "#pour test data\n",
        "tsdata = ImageDataGenerator(rescale = 1./255,\n",
        "                            shear_range = 0.2,\n",
        "                            zoom_range = 0.2,\n",
        "                            horizontal_flip = True,\n",
        "                            )\n",
        "\n",
        "testndata = tsdata.flow_from_directory( directory = test_loc, target_size = (224, 224))"
      ],
      "metadata": {
        "colab": {
          "base_uri": "https://localhost:8080/"
        },
        "id": "1wMDOW4vovWg",
        "outputId": "0a3fbcf3-76c9-42a1-acbb-3bb1b64b2423"
      },
      "execution_count": 15,
      "outputs": [
        {
          "output_type": "stream",
          "name": "stdout",
          "text": [
            "Found 250 images belonging to 2 classes.\n",
            "Found 110 images belonging to 2 classes.\n"
          ]
        }
      ]
    },
    {
      "cell_type": "code",
      "source": [
        "# séparer les deux classe 0 pour covid+ et 1 pour covid-\n",
        "traindata.class_indices"
      ],
      "metadata": {
        "colab": {
          "base_uri": "https://localhost:8080/"
        },
        "id": "d6SqLB9juRxd",
        "outputId": "0b9a270b-f109-4bb5-bc62-f6c0dcaff632"
      },
      "execution_count": 16,
      "outputs": [
        {
          "output_type": "execute_result",
          "data": {
            "text/plain": [
              "{'COVID+': 0, 'COVID-': 1}"
            ]
          },
          "metadata": {},
          "execution_count": 16
        }
      ]
    },
    {
      "cell_type": "code",
      "source": [
        "# define input \n",
        "input_shape = (224,224,3) #taille de l'image d'entrée 224x224\n",
        "\n",
        "# construire le modèle CNN\n",
        "# Input Layer\n",
        "img_input = Input(shape = input_shape, name = 'img_input')\n"
      ],
      "metadata": {
        "id": "VoI8HP53utR_"
      },
      "execution_count": 17,
      "outputs": []
    },
    {
      "cell_type": "code",
      "source": [
        "      #partie convolutive\n",
        "# Convo layers\n",
        "#conv2d(32, (3,3)=>32 filtre de taille 3X3 \n",
        "x = Conv2D(32, (3,3) , padding = 'same', activation='relu', name ='layer_1') (img_input)\n",
        "x = Conv2D(64, (3,3) , padding = 'same', activation='relu', name ='layer_2') (x)\n",
        "#MaxPool2D((2,2)=>réduire la taille de l'image ,strides=(2,2) glissement de 2X2\n",
        "x = MaxPool2D((2,2), strides=(2,2), name ='layer_3') (x)\n",
        "# couche sortie: dropout=0,25 pour améliorer la performance \n",
        "x =Dropout(0.25)(x)\n"
      ],
      "metadata": {
        "id": "2IHqxiW-0NMr"
      },
      "execution_count": 18,
      "outputs": []
    },
    {
      "cell_type": "code",
      "source": [
        "x = Conv2D(64, (3,3) , padding = 'same', activation='relu', name ='layer_4') (x)\n",
        "x = MaxPool2D((2,2), strides=(2,2), name ='layer_5') (x)\n",
        "x =Dropout(0.25)(x)"
      ],
      "metadata": {
        "id": "We-SGGZl3T1d"
      },
      "execution_count": 19,
      "outputs": []
    },
    {
      "cell_type": "code",
      "source": [
        "x = Conv2D(128, (3,3) , padding = 'same', activation='relu', name ='layer_6') (x)\n",
        "x = MaxPool2D((2,2), strides=(2,2), name ='layer_7') (x)\n",
        "x =Dropout(0.25)(x)\n",
        "\n",
        "      # la partie de classification\n",
        "x =Flatten(name='layer_8')(x)\n",
        "# 64 neuronnes\n",
        "x = Dense(64, name = 'layer_9')(x)\n",
        "x =Dropout(0.5)(x)\n",
        "#on a deux classe dans la sortie (COVID+ ou COVID-)\n",
        "x =Dense(2, activation='sigmoid', name ='predections')(x)"
      ],
      "metadata": {
        "id": "TO359p-R-YGS"
      },
      "execution_count": 20,
      "outputs": []
    },
    {
      "cell_type": "code",
      "source": [
        "# génération du modèle\n",
        "model = Model(inputs = img_input, outputs  =x, name = 'CNN_COVID_19' )"
      ],
      "metadata": {
        "id": "bmi7DutBBX_U"
      },
      "execution_count": 21,
      "outputs": []
    },
    {
      "cell_type": "code",
      "source": [
        "# afficher la structure du réseau CNN\n",
        "model.summary()"
      ],
      "metadata": {
        "colab": {
          "base_uri": "https://localhost:8080/"
        },
        "id": "d9YRTABQBaHJ",
        "outputId": "0388e522-5704-4def-d8e5-4adc44936ba7"
      },
      "execution_count": 22,
      "outputs": [
        {
          "output_type": "stream",
          "name": "stdout",
          "text": [
            "Model: \"CNN_COVID_19\"\n",
            "_________________________________________________________________\n",
            " Layer (type)                Output Shape              Param #   \n",
            "=================================================================\n",
            " img_input (InputLayer)      [(None, 224, 224, 3)]     0         \n",
            "                                                                 \n",
            " layer_1 (Conv2D)            (None, 224, 224, 32)      896       \n",
            "                                                                 \n",
            " layer_2 (Conv2D)            (None, 224, 224, 64)      18496     \n",
            "                                                                 \n",
            " layer_3 (MaxPooling2D)      (None, 112, 112, 64)      0         \n",
            "                                                                 \n",
            " dropout (Dropout)           (None, 112, 112, 64)      0         \n",
            "                                                                 \n",
            " layer_4 (Conv2D)            (None, 112, 112, 64)      36928     \n",
            "                                                                 \n",
            " layer_5 (MaxPooling2D)      (None, 56, 56, 64)        0         \n",
            "                                                                 \n",
            " dropout_1 (Dropout)         (None, 56, 56, 64)        0         \n",
            "                                                                 \n",
            " layer_6 (Conv2D)            (None, 56, 56, 128)       73856     \n",
            "                                                                 \n",
            " layer_7 (MaxPooling2D)      (None, 28, 28, 128)       0         \n",
            "                                                                 \n",
            " dropout_2 (Dropout)         (None, 28, 28, 128)       0         \n",
            "                                                                 \n",
            " layer_8 (Flatten)           (None, 100352)            0         \n",
            "                                                                 \n",
            " layer_9 (Dense)             (None, 64)                6422592   \n",
            "                                                                 \n",
            " dropout_3 (Dropout)         (None, 64)                0         \n",
            "                                                                 \n",
            " predections (Dense)         (None, 2)                 130       \n",
            "                                                                 \n",
            "=================================================================\n",
            "Total params: 6,552,898\n",
            "Trainable params: 6,552,898\n",
            "Non-trainable params: 0\n",
            "_________________________________________________________________\n"
          ]
        }
      ]
    },
    {
      "cell_type": "code",
      "source": [
        "# Compiler le modèle\n",
        "model.compile(optimizer = 'adam', loss = binary_crossentropy , metrics=['accuracy'])"
      ],
      "metadata": {
        "id": "yQXfKCt7B64G"
      },
      "execution_count": 23,
      "outputs": []
    },
    {
      "cell_type": "code",
      "source": [
        "# on prend 32 images de données d'apprentissage pour chaque itération\n",
        "batch_size = 32  \n",
        "#l'historique de l'apprentissage\n",
        "hist = model.fit(traindata, \n",
        "                 steps_per_epoch = traindata.samples//batch_size,#250/32=7 itération pour le trainig dans chaque epoch\n",
        "                 validation_data = testndata,\n",
        "                 validation_steps = testndata.samples//batch_size,#110/32=3 itération pour le test\n",
        "                 epochs = 10  #on a préciser 10 epoch\n",
        "                 )"
      ],
      "metadata": {
        "colab": {
          "base_uri": "https://localhost:8080/"
        },
        "id": "GgGsY7yLDYc1",
        "outputId": "91d420e1-3431-4828-f1a2-cf38f05eec8f"
      },
      "execution_count": 24,
      "outputs": [
        {
          "output_type": "stream",
          "name": "stdout",
          "text": [
            "Epoch 1/10\n",
            "7/7 [==============================] - 102s 14s/step - loss: 1.5369 - accuracy: 0.6697 - val_loss: 0.5906 - val_accuracy: 0.8958\n",
            "Epoch 2/10\n",
            "7/7 [==============================] - 14s 2s/step - loss: 0.3761 - accuracy: 0.8670 - val_loss: 0.3709 - val_accuracy: 0.8750\n",
            "Epoch 3/10\n",
            "7/7 [==============================] - 16s 2s/step - loss: 0.3994 - accuracy: 0.8303 - val_loss: 0.4370 - val_accuracy: 0.8958\n",
            "Epoch 4/10\n",
            "7/7 [==============================] - 16s 2s/step - loss: 0.2810 - accuracy: 0.9107 - val_loss: 0.2681 - val_accuracy: 0.9167\n",
            "Epoch 5/10\n",
            "7/7 [==============================] - 19s 3s/step - loss: 0.2064 - accuracy: 0.9107 - val_loss: 0.2166 - val_accuracy: 0.9271\n",
            "Epoch 6/10\n",
            "7/7 [==============================] - 15s 2s/step - loss: 0.1545 - accuracy: 0.9420 - val_loss: 0.2009 - val_accuracy: 0.9583\n",
            "Epoch 7/10\n",
            "7/7 [==============================] - 15s 2s/step - loss: 0.1636 - accuracy: 0.9404 - val_loss: 0.1463 - val_accuracy: 0.9896\n",
            "Epoch 8/10\n",
            "7/7 [==============================] - 14s 2s/step - loss: 0.1110 - accuracy: 0.9587 - val_loss: 0.0858 - val_accuracy: 0.9896\n",
            "Epoch 9/10\n",
            "7/7 [==============================] - 14s 2s/step - loss: 0.0816 - accuracy: 0.9817 - val_loss: 0.1122 - val_accuracy: 0.9479\n",
            "Epoch 10/10\n",
            "7/7 [==============================] - 14s 2s/step - loss: 0.1384 - accuracy: 0.9679 - val_loss: 0.0947 - val_accuracy: 1.0000\n"
          ]
        }
      ]
    },
    {
      "cell_type": "code",
      "source": [
        ""
      ],
      "metadata": {
        "id": "UA20vitl1Pt8"
      },
      "execution_count": null,
      "outputs": []
    },
    {
      "cell_type": "code",
      "source": [
        "#plot la perte de train data et test data\n",
        "plt.plot(hist.history['loss'], label = 'train') \n",
        "plt.plot(hist.history['val_loss'], label= 'test') \n",
        "plt.title('CNN_COVID_19 : Train Loss & Test Loss')\n",
        "plt.legend()\n",
        "plt.show()"
      ],
      "metadata": {
        "colab": {
          "base_uri": "https://localhost:8080/",
          "height": 281
        },
        "id": "-XnQupGxOkik",
        "outputId": "f9feb80d-7442-4336-a89b-46cb7cbe7a9c"
      },
      "execution_count": 25,
      "outputs": [
        {
          "output_type": "display_data",
          "data": {
            "image/png": "[encoded data removed]",
            "text/plain": [
              "<Figure size 432x288 with 1 Axes>"
            ]
          },
          "metadata": {
            "needs_background": "light"
          }
        }
      ]
    },
    {
      "cell_type": "code",
      "source": [
        "#plot la précision de train data et test data\n",
        "plt.plot(hist.history['accuracy'], label = 'train')\n",
        "plt.plot(hist.history['val_accuracy'], label= 'test')\n",
        "plt.title('CNN_COVID_19 : Accuracy & Test Accuracy')\n",
        "plt.legend()\n",
        "plt.show()"
      ],
      "metadata": {
        "colab": {
          "base_uri": "https://localhost:8080/",
          "height": 281
        },
        "id": "NiEbuSlNQOkD",
        "outputId": "57f2c92c-c693-40b9-8954-6929dc427533"
      },
      "execution_count": 26,
      "outputs": [
        {
          "output_type": "display_data",
          "data": {
            "image/png": "[encoded data removed]",
            "text/plain": [
              "<Figure size 432x288 with 1 Axes>"
            ]
          },
          "metadata": {
            "needs_background": "light"
          }
        }
      ]
    }
  ]
}