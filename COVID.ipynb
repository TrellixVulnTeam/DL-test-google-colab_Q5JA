{
  "nbformat": 4,
  "nbformat_minor": 0,
  "metadata": {
    "colab": {
      "name": "Copie de COVID.ipynb",
      "provenance": [],
      "collapsed_sections": []
    },
    "kernelspec": {
      "name": "python3",
      "display_name": "Python 3"
    },
    "language_info": {
      "name": "python"
    },
    "accelerator": "GPU"
  },
  "cells": [
    {
      "cell_type": "code",
      "source": [
        "#Télécharger google drive dans notre colab\n",
        "#from google.colab import drive\n",
        "#drive.mount('/content/drive')"
      ],
      "metadata": {
        "colab": {
          "base_uri": "https://localhost:8080/"
        },
        "id": "8R-PSMVyS3di",
        "outputId": "55d0d838-079b-45d0-c3f7-df48e9648558"
      },
      "execution_count": null,
      "outputs": [
        {
          "output_type": "stream",
          "name": "stdout",
          "text": [
            "Mounted at /content/drive\n"
          ]
        }
      ]
    },
    {
      "cell_type": "code",
      "source": [
        "# Importing librar\n",
        "import tensorflow as tf\n",
        "import tensorflow.keras \n",
        "from tensorflow.keras.models import Model\n",
        "from tensorflow.keras.layers import Input, Dense, Activation, Flatten, Conv2D, MaxPool2D , Dropout\n",
        "from tensorflow.keras.optimizers import Adam\n",
        "from tensorflow.keras.preprocessing.image import ImageDataGenerator\n",
        "from tensorflow.keras.losses import binary_crossentropy\n",
        "from tensorflow.keras import metrics\n",
        "import matplotlib.pyplot as plt\n",
        "from sklearn.metrics import classification_report, confusion_matrix, plot_confusion_matrix, ConfusionMatrixDisplay\n",
        "import numpy as np"
      ],
      "metadata": {
        "id": "z2lwLvPWVMtp"
      },
      "execution_count": null,
      "outputs": []
    },
    {
      "cell_type": "code",
      "source": [
        "# Create Path fro Both (Train/Test)\n",
        "train_loc = 'DATA/train/'\n",
        "test_loc = 'DATA/test/'"
      ],
      "metadata": {
        "id": "bY6Kx59EVSl8"
      },
      "execution_count": null,
      "outputs": []
    },
    {
      "cell_type": "code",
      "source": [
        "#augmentation des données\n",
        "#pour train data\n",
        "trdata = ImageDataGenerator(rescale = 1./255, #normalisation des images(0<pixel<1)\n",
        "                            shear_range = 0.2,\n",
        "                            zoom_range = 0.2,\n",
        "                            horizontal_flip =True,\n",
        "                            )\n",
        "#resize images\n",
        "traindata = trdata.flow_from_directory( directory = train_loc, target_size = (224, 224))\n",
        "\n",
        "#pour test data\n",
        "tsdata = ImageDataGenerator(rescale = 1./255,\n",
        "                            shear_range = 0.2,\n",
        "                            zoom_range = 0.2,\n",
        "                            horizontal_flip = True,\n",
        "                            )\n",
        "\n",
        "testndata = tsdata.flow_from_directory( directory = test_loc, target_size = (224, 224))"
      ],
      "metadata": {
        "colab": {
          "base_uri": "https://localhost:8080/"
        },
        "id": "1wMDOW4vovWg",
        "outputId": "cadb85c0-1cfb-41b0-93bd-024b9895a599"
      },
      "execution_count": null,
      "outputs": [
        {
          "output_type": "stream",
          "name": "stdout",
          "text": [
            "Found 250 images belonging to 2 classes.\n",
            "Found 110 images belonging to 2 classes.\n"
          ]
        }
      ]
    },
    {
      "cell_type": "code",
      "source": [
        "# séparer les deux classe 0 pour covid+ et 1 pour covid-\n",
        "traindata.class_indices"
      ],
      "metadata": {
        "colab": {
          "base_uri": "https://localhost:8080/"
        },
        "id": "d6SqLB9juRxd",
        "outputId": "dacdaae8-5ea3-4dee-955e-2829ab4024f5"
      },
      "execution_count": null,
      "outputs": [
        {
          "output_type": "execute_result",
          "data": {
            "text/plain": [
              "{'COVID+': 0, 'COVID-': 1}"
            ]
          },
          "metadata": {},
          "execution_count": 5
        }
      ]
    },
    {
      "cell_type": "code",
      "source": [
        "# define input \n",
        "input_shape = (224,224,3) #taille de l'image d'entrée 224x224\n",
        "\n",
        "# construire le modèle CNN\n",
        "# Input Layer\n",
        "img_input = Input(shape = input_shape, name = 'img_input')\n"
      ],
      "metadata": {
        "id": "VoI8HP53utR_"
      },
      "execution_count": null,
      "outputs": []
    },
    {
      "cell_type": "code",
      "source": [
        "      #partie convolutive\n",
        "# Convo layers\n",
        "#conv2d(32, (3,3)=>32 filtre de taille 3X3 \n",
        "x = Conv2D(32, (3,3) , padding = 'same', activation='relu', name ='layer_1') (img_input)\n",
        "x = Conv2D(64, (3,3) , padding = 'same', activation='relu', name ='layer_2') (x)\n",
        "#MaxPool2D((2,2)=>réduire la taille de l'image ,strides=(2,2) glissement de 2X2\n",
        "x = MaxPool2D((2,2), strides=(2,2), name ='layer_3') (x)\n",
        "# couche sortie: dropout=0,25 pour améliorer la performance \n",
        "x =Dropout(0.25)(x)\n"
      ],
      "metadata": {
        "id": "2IHqxiW-0NMr"
      },
      "execution_count": null,
      "outputs": []
    },
    {
      "cell_type": "code",
      "source": [
        "x = Conv2D(64, (3,3) , padding = 'same', activation='relu', name ='layer_4') (x)\n",
        "x = MaxPool2D((2,2), strides=(2,2), name ='layer_5') (x)\n",
        "x =Dropout(0.25)(x)"
      ],
      "metadata": {
        "id": "We-SGGZl3T1d"
      },
      "execution_count": null,
      "outputs": []
    },
    {
      "cell_type": "code",
      "source": [
        "x = Conv2D(128, (3,3) , padding = 'same', activation='relu', name ='layer_6') (x)\n",
        "x = MaxPool2D((2,2), strides=(2,2), name ='layer_7') (x)\n",
        "x =Dropout(0.25)(x)\n",
        "\n",
        "      # la partie de classification\n",
        "x =Flatten(name='layer_8')(x)\n",
        "# 64 neuronnes\n",
        "x = Dense(64, name = 'layer_9')(x)\n",
        "x =Dropout(0.5)(x)\n",
        "#on a deux classe dans la sortie (COVID+ ou COVID-)\n",
        "x =Dense(2, activation='sigmoid', name ='predections')(x)"
      ],
      "metadata": {
        "id": "TO359p-R-YGS"
      },
      "execution_count": null,
      "outputs": []
    },
    {
      "cell_type": "code",
      "source": [
        "# génération du modèle\n",
        "model = Model(inputs = img_input, outputs  =x, name = 'CNN_COVID_19' )"
      ],
      "metadata": {
        "id": "bmi7DutBBX_U"
      },
      "execution_count": null,
      "outputs": []
    },
    {
      "cell_type": "code",
      "source": [
        "# afficher la structure du réseau CNN\n",
        "model.summary()"
      ],
      "metadata": {
        "colab": {
          "base_uri": "https://localhost:8080/"
        },
        "id": "d9YRTABQBaHJ",
        "outputId": "f97e1346-a326-41de-8aea-cbf8316df9b7"
      },
      "execution_count": null,
      "outputs": [
        {
          "output_type": "stream",
          "name": "stdout",
          "text": [
            "Model: \"CNN_COVID_19\"\n",
            "_________________________________________________________________\n",
            " Layer (type)                Output Shape              Param #   \n",
            "=================================================================\n",
            " img_input (InputLayer)      [(None, 224, 224, 3)]     0         \n",
            "                                                                 \n",
            " layer_1 (Conv2D)            (None, 224, 224, 32)      896       \n",
            "                                                                 \n",
            " layer_2 (Conv2D)            (None, 224, 224, 64)      18496     \n",
            "                                                                 \n",
            " layer_3 (MaxPooling2D)      (None, 112, 112, 64)      0         \n",
            "                                                                 \n",
            " dropout (Dropout)           (None, 112, 112, 64)      0         \n",
            "                                                                 \n",
            " layer_4 (Conv2D)            (None, 112, 112, 64)      36928     \n",
            "                                                                 \n",
            " layer_5 (MaxPooling2D)      (None, 56, 56, 64)        0         \n",
            "                                                                 \n",
            " dropout_1 (Dropout)         (None, 56, 56, 64)        0         \n",
            "                                                                 \n",
            " layer_6 (Conv2D)            (None, 56, 56, 128)       73856     \n",
            "                                                                 \n",
            " layer_7 (MaxPooling2D)      (None, 28, 28, 128)       0         \n",
            "                                                                 \n",
            " dropout_2 (Dropout)         (None, 28, 28, 128)       0         \n",
            "                                                                 \n",
            " layer_8 (Flatten)           (None, 100352)            0         \n",
            "                                                                 \n",
            " layer_9 (Dense)             (None, 64)                6422592   \n",
            "                                                                 \n",
            " dropout_3 (Dropout)         (None, 64)                0         \n",
            "                                                                 \n",
            " predections (Dense)         (None, 2)                 130       \n",
            "                                                                 \n",
            "=================================================================\n",
            "Total params: 6,552,898\n",
            "Trainable params: 6,552,898\n",
            "Non-trainable params: 0\n",
            "_________________________________________________________________\n"
          ]
        }
      ]
    },
    {
      "cell_type": "code",
      "source": [
        "# Compiler le modèle\n",
        "model.compile(optimizer = 'adam', loss = binary_crossentropy , metrics=['accuracy'])"
      ],
      "metadata": {
        "id": "yQXfKCt7B64G"
      },
      "execution_count": null,
      "outputs": []
    },
    {
      "cell_type": "code",
      "source": [
        "# on prend 32 images de données d'apprentissage pour chaque itération\n",
        "batch_size = 32  \n",
        "#l'historique de l'apprentissage\n",
        "hist = model.fit(traindata, \n",
        "                 steps_per_epoch = traindata.samples//batch_size,#250/32=7 itération pour le trainig dans chaque epoch\n",
        "                 validation_data = testndata,\n",
        "                 validation_steps = testndata.samples//batch_size,#110/32=3 itération pour le test\n",
        "                 epochs = 10  #on a préciser 10 epoch\n",
        "                 )"
      ],
      "metadata": {
        "colab": {
          "base_uri": "https://localhost:8080/"
        },
        "id": "GgGsY7yLDYc1",
        "outputId": "7fd53e46-5b94-4563-ffd3-7650904e7e9a"
      },
      "execution_count": null,
      "outputs": [
        {
          "output_type": "stream",
          "name": "stdout",
          "text": [
            "Epoch 1/10\n",
            "7/7 [==============================] - 68s 8s/step - loss: 1.7630 - accuracy: 0.6881 - val_loss: 0.6722 - val_accuracy: 0.8125\n",
            "Epoch 2/10\n",
            "7/7 [==============================] - 14s 2s/step - loss: 0.5320 - accuracy: 0.7890 - val_loss: 0.4082 - val_accuracy: 0.8542\n",
            "Epoch 3/10\n",
            "7/7 [==============================] - 14s 2s/step - loss: 0.3823 - accuracy: 0.8532 - val_loss: 0.4039 - val_accuracy: 0.8229\n",
            "Epoch 4/10\n",
            "7/7 [==============================] - 14s 2s/step - loss: 0.3448 - accuracy: 0.8991 - val_loss: 0.3730 - val_accuracy: 0.9167\n",
            "Epoch 5/10\n",
            "7/7 [==============================] - 14s 2s/step - loss: 0.2382 - accuracy: 0.9152 - val_loss: 0.2894 - val_accuracy: 0.9062\n",
            "Epoch 6/10\n",
            "7/7 [==============================] - 14s 2s/step - loss: 0.2710 - accuracy: 0.9107 - val_loss: 0.2318 - val_accuracy: 0.9583\n",
            "Epoch 7/10\n",
            "7/7 [==============================] - 14s 2s/step - loss: 0.2196 - accuracy: 0.9312 - val_loss: 0.3337 - val_accuracy: 0.9062\n",
            "Epoch 8/10\n",
            "7/7 [==============================] - 14s 2s/step - loss: 0.1712 - accuracy: 0.9375 - val_loss: 0.2502 - val_accuracy: 0.9062\n",
            "Epoch 9/10\n",
            "7/7 [==============================] - 14s 2s/step - loss: 0.1434 - accuracy: 0.9587 - val_loss: 0.0945 - val_accuracy: 0.9792\n",
            "Epoch 10/10\n",
            "7/7 [==============================] - 14s 2s/step - loss: 0.1368 - accuracy: 0.9587 - val_loss: 0.0665 - val_accuracy: 0.9792\n"
          ]
        }
      ]
    },
    {
      "cell_type": "code",
      "source": [
        ""
      ],
      "metadata": {
        "id": "UA20vitl1Pt8"
      },
      "execution_count": null,
      "outputs": []
    },
    {
      "cell_type": "code",
      "source": [
        "#plot la perte de train data et test data\n",
        "plt.plot(hist.history['loss'], label = 'train') \n",
        "plt.plot(hist.history['val_loss'], label= 'test') \n",
        "plt.title('CNN_COVID_19 : Train Loss & Test Loss')\n",
        "plt.legend()\n",
        "plt.show()"
      ],
      "metadata": {
        "colab": {
          "base_uri": "https://localhost:8080/",
          "height": 281
        },
        "id": "-XnQupGxOkik",
        "outputId": "831288ee-6cee-45b0-887d-5906cba0d6c5"
      },
      "execution_count": null,
      "outputs": [
        {
          "output_type": "display_data",
          "data": {
            "image/png": "[encoded data removed]",
            "text/plain": [
              "<Figure size 432x288 with 1 Axes>"
            ]
          },
          "metadata": {
            "needs_background": "light"
          }
        }
      ]
    },
    {
      "cell_type": "code",
      "source": [
        "#plot la précision de train data et test data\n",
        "plt.plot(hist.history['accuracy'], label = 'train')\n",
        "plt.plot(hist.history['val_accuracy'], label= 'test')\n",
        "plt.title('CNN_COVID_19 : Accuracy & Test Accuracy')\n",
        "plt.legend()\n",
        "plt.show()"
      ],
      "metadata": {
        "colab": {
          "base_uri": "https://localhost:8080/",
          "height": 281
        },
        "id": "NiEbuSlNQOkD",
        "outputId": "37765ece-1d82-4eb4-bf8d-8f4d61228e1f"
      },
      "execution_count": null,
      "outputs": [
        {
          "output_type": "display_data",
          "data": {
            "image/png": "[encoded data removed]",
            "text/plain": [
              "<Figure size 432x288 with 1 Axes>"
            ]
          },
          "metadata": {
            "needs_background": "light"
          }
        }
      ]
    }
  ]
}